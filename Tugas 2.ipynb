{
 "cells": [
  {
   "cell_type": "markdown",
   "metadata": {},
   "source": [
    "# Program Tugas 2 \n",
    "\n",
    "Program ini bertujuan untuk menampilkan 250 angka secara random dengan range 1-100, kemudian dicari beberapa nilai dari array tersebut seperti angka ganjil dari array tersebut, angka >70, nilai maksimum dan minimum, nilai standar deviasi, dan modus dari array."
   ]
  },
  {
   "cell_type": "code",
   "execution_count": null,
   "metadata": {},
   "outputs": [],
   "source": [
    "import random\n",
    "\n",
    "# GENERATE RANDOM\n",
    "nilaiTugas = []\n",
    "l = []\n",
    "for i in range(250):\n",
    "    nilaiTugas.append(random.randrange(1,100,1))\n",
    "\n",
    "print(nilaiTugas)\n",
    "for n in nilaiTugas:\n",
    "#----------------------------------Perintah Menampilkan Nilai Ganjil---------------------------------#\n",
    "    if n > 0:   \n",
    "        if (n % 2) != 0:       \n",
    "                 print (n, \"termasuk bilangan ganjil\")\n",
    "#----------------------------------Perintah Menampilkan Nilai >70------------------------------------#    \n",
    "    if n > 70:  \n",
    "              l.append(n)\n",
    "print(l)  \n",
    "#----------------------------------Perintah Menampilkan Standar Deviasi------------------------------#      \n",
    "for j in range(len(nilaiTugas)):\n",
    "    nilaiTugas[j]=int(nilaiTugas[j])\n",
    "jumlah=0\n",
    "for j in range(len(nilaiTugas)):\n",
    "    jumlah +=nilaiTugas[j]\n",
    "\n",
    "rata=jumlah/len(nilaiTugas)\n",
    "sigma = 0\n",
    "for j in range(len(nilaiTugas)):\n",
    "    hitung =(nilaiTugas[j]-rata)**2\n",
    "    sigma += hitung\n",
    "\n",
    "pembagianN=sigma/len(nilaiTugas)\n",
    "standarDeviasi=pembagianN ** 0.5\n",
    "print(\"{:.2f}\".format(standarDeviasi))\n",
    "#----------------------------------Perintah Menampilkan Nilai Maksimum------------------------------#\n",
    "maximum = max(nilaiTugas)\n",
    "minimum = min(nilaiTugas)\n",
    "print(\"Nilai Maksimumnya:\",maximum)     \n",
    "print(\"Nilai Maksimumnya:\",minimum) \n",
    "#----------------------------------Perintah Menampilkan Modus---------------------------------------#\n",
    "modus = max(set(nilaiTugas), key=nilaiTugas.count)\n",
    "a = nilaiTugas.count(modus)\n",
    "b = []\n",
    "for k in nilaiTugas:\n",
    "        if a - 1 < nilaiTugas.count(k):\n",
    "            b.append(k)\n",
    "c = b[::a]\n",
    "print(\"Nilai Modusnya adalah:\",modus)    \n",
    "#---------------------------------------------------------------------------------------------------#\n",
    "\n"
   ]
  },
  {
   "cell_type": "code",
   "execution_count": null,
   "metadata": {},
   "outputs": [],
   "source": []
  },
  {
   "cell_type": "code",
   "execution_count": null,
   "metadata": {},
   "outputs": [],
   "source": []
  }
 ],
 "metadata": {
  "kernelspec": {
   "display_name": "Python 3",
   "language": "python",
   "name": "python3"
  },
  "language_info": {
   "codemirror_mode": {
    "name": "ipython",
    "version": 3
   },
   "file_extension": ".py",
   "mimetype": "text/x-python",
   "name": "python",
   "nbconvert_exporter": "python",
   "pygments_lexer": "ipython3",
   "version": "3.7.0"
  }
 },
 "nbformat": 4,
 "nbformat_minor": 2
}
