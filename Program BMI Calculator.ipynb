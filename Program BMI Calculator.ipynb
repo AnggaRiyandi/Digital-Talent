{
 "cells": [
  {
   "cell_type": "markdown",
   "metadata": {},
   "source": [
    "# Program Body Mass Index \n",
    "\n",
    "Program ini dibuat dengan tujuan untuk membuat suatu Body Mass Index (BMI) Calculator yang merupakan ukuran yang digunakan untuk menilai proporsionalitas perbandingan antara tinggi dan berat seseorang.  BMI sering digunakan dokter untuk menilai seseorang itu obese atau tidak. Rumus untuk BMI adalah berat badan (dalam kilogram) dibagi dengan tinggi badan kuadrat (dalam meter), atau disingkat (BMI = BB/TB2). "
   ]
  },
  {
   "cell_type": "code",
   "execution_count": 11,
   "metadata": {},
   "outputs": [
    {
     "name": "stdout",
     "output_type": "stream",
     "text": [
      "Berat Badan anda: 60 Kg\n",
      "Tinggi Badan anda: 140 Cm\n",
      "Body Mass Index anda : 30.61 Kg/M^2\n",
      "Moderately obese\n"
     ]
    }
   ],
   "source": [
    "beratBadan = 60\n",
    "tinggiBadan = 140 \n",
    "TB = (tinggiBadan*0.01)\n",
    "BMI = beratBadan/(TB**2)\n",
    "\n",
    "print (\"Berat Badan anda:\", beratBadan ,\"Kg\")\n",
    "print (\"Tinggi Badan anda:\", tinggiBadan ,\"Cm\" )\n",
    "\n",
    "print (\"Body Mass Index anda :\", \"{:.2f}\".format(BMI) ,\"Kg/M^2\")\n",
    "\n",
    "if BMI<15:\n",
    "    print(\"Very Severely underweight\")\n",
    "elif BMI >=15 and BMI <16:\n",
    "    print(\"Severely underweight\")\n",
    "elif BMI >=16 and BMI <18.5:\n",
    "    print(\"underweight\")\n",
    "elif BMI >=18.5 and BMI <25:\n",
    "    print(\"Normal(Healthy weight)\") \n",
    "elif BMI >=25 and BMI <30:\n",
    "    print(\"Overweight)\") \n",
    "elif BMI >=30 and BMI <35:\n",
    "    print(\"Moderately obese\") \n",
    "elif BMI >=35 and BMI <40:\n",
    "    print(\"Severely obese\")\n",
    "elif BMI > 40:\n",
    "    print(\"Very severely obese\")"
   ]
  },
  {
   "cell_type": "code",
   "execution_count": null,
   "metadata": {},
   "outputs": [],
   "source": []
  }
 ],
 "metadata": {
  "kernelspec": {
   "display_name": "Python 3",
   "language": "python",
   "name": "python3"
  },
  "language_info": {
   "codemirror_mode": {
    "name": "ipython",
    "version": 3
   },
   "file_extension": ".py",
   "mimetype": "text/x-python",
   "name": "python",
   "nbconvert_exporter": "python",
   "pygments_lexer": "ipython3",
   "version": "3.7.0"
  }
 },
 "nbformat": 4,
 "nbformat_minor": 2
}
